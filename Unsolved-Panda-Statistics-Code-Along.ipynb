{
 "cells": [
  {
   "cell_type": "code",
   "execution_count": null,
   "metadata": {},
   "outputs": [],
   "source": [
    "import pandas as pd\n",
    "import seaborn as sns\n",
    "from matplotlib import pyplot as plt"
   ]
  },
  {
   "cell_type": "markdown",
   "metadata": {},
   "source": [
    "## Import CSV data from CSV"
   ]
  },
  {
   "cell_type": "markdown",
   "metadata": {},
   "source": [
    "### Import CSV data from CSV with header"
   ]
  },
  {
   "cell_type": "code",
   "execution_count": 11,
   "metadata": {},
   "outputs": [],
   "source": [
    "# Read in the  NHAMES weight and height data from the csv file with Pandas\n",
    "\n",
    "\n",
    "\n",
    "\n",
    "# Data From CDC\n",
    "# National Health and Nutrition Examination Survey\n",
    "# 2017-March 2020 Data Documentation, Codebook, and Frequencies\n",
    "# Body Measures (P_BMX)\n",
    "# Data File: P_BMX.xpt\n",
    "# First Published: May 2021\n",
    "# Last Revised: NA\n",
    "# https://wwwn.cdc.gov/Nchs/Nhanes/2017-2018/P_BMX.htm"
   ]
  },
  {
   "cell_type": "markdown",
   "metadata": {},
   "source": [
    "## Basic Panda Operations"
   ]
  },
  {
   "cell_type": "code",
   "execution_count": null,
   "metadata": {},
   "outputs": [],
   "source": [
    "# Use the head() method to display the first 5 rows of the data\n",
    "\n"
   ]
  },
  {
   "cell_type": "code",
   "execution_count": null,
   "metadata": {},
   "outputs": [],
   "source": [
    "# Use the tail() method to display the last 5 rows of the data\n"
   ]
  },
  {
   "cell_type": "code",
   "execution_count": null,
   "metadata": {},
   "outputs": [],
   "source": [
    "# Use the info() method to display the data types of each column\n"
   ]
  },
  {
   "cell_type": "code",
   "execution_count": null,
   "metadata": {},
   "outputs": [],
   "source": [
    "# Drop unnecessary columns\n",
    "# Use the drop() method to drop the 'index' column  from the data  \n",
    "\n"
   ]
  },
  {
   "cell_type": "markdown",
   "metadata": {},
   "source": [
    "## Basic Statistical Functions for Use in Pandas"
   ]
  },
  {
   "cell_type": "markdown",
   "metadata": {},
   "source": [
    "### Describe function"
   ]
  },
  {
   "cell_type": "code",
   "execution_count": 3,
   "metadata": {},
   "outputs": [],
   "source": [
    "# Use the describe() method to display some basic statistical details like percentile, mean, std etc. of numeric columns\n"
   ]
  },
  {
   "cell_type": "code",
   "execution_count": null,
   "metadata": {},
   "outputs": [],
   "source": [
    "# Use the describe() method to display some basic statistical details from 1 column\n"
   ]
  },
  {
   "cell_type": "code",
   "execution_count": null,
   "metadata": {},
   "outputs": [],
   "source": [
    "# Use the describe() method to display some basic statistical details from 2 or More column\n"
   ]
  },
  {
   "cell_type": "markdown",
   "metadata": {},
   "source": [
    "### Other Built in Statstical Functions\n",
    "\n",
    "Individual functions built into pandas data frame for use \n",
    "- `count()`: Counts the number of non-NA/null observations.\n",
    "- `sum()`: Sums the values for the requested axis.\n",
    "- `mean()`: Computes the mean of the values.\n",
    "- `median()`: Computes the median of the values.\n",
    "- `min()`: Finds the minimum value.\n",
    "- `max()`: Finds the maximum value.\n",
    "- `mode()`: Computes the mode of the values.\n",
    "- `std()`: Computes the standard deviation of the values.\n",
    "- `var()`: Computes the variance of the values.\n",
    "- `sem()`: Computes the standard error of the mean of the values.\n",
    "- `describe()`: Generates descriptive statistics that summarize the central tendency, dispersion, and shape of a dataset’s distribution.\n",
    "- `quantile()`: Computes the quantile of the values.\n",
    "- `cumsum()`: Computes the cumulative sum of the values.\n",
    "- `cumprod()`: Computes the cumulative product of the values.\n",
    "- `cummax()`: Computes the cumulative maximum of the values.\n",
    "- `cummin()`: Computes the cumulative minimum of the values.\n",
    "- `skew()`: Computes the skewness of the values, a measure of the asymmetry of the probability distribution.\n",
    "- `kurt()`: Computes the kurtosis of the values, a measure of the \"tailedness\" of the probability distribution.\n",
    "- `corr()`: Computes the correlation between columns in a DataFrame.\n",
    "- `cov()`: Computes the covariance between columns in a DataFrame.\n"
   ]
  },
  {
   "cell_type": "markdown",
   "metadata": {},
   "source": [
    "### Mean and Median Examples \n",
    "\n",
    "#### Mean\n",
    "\n",
    "Average of the set:  ( sum of all items )  / ( total number of means)"
   ]
  },
  {
   "cell_type": "code",
   "execution_count": null,
   "metadata": {},
   "outputs": [],
   "source": [
    "# Use the mean() method to display the mean of all columns\n"
   ]
  },
  {
   "cell_type": "code",
   "execution_count": null,
   "metadata": {},
   "outputs": [],
   "source": [
    "# Use the mean() method to display the mean of a columns"
   ]
  },
  {
   "cell_type": "code",
   "execution_count": null,
   "metadata": {},
   "outputs": [],
   "source": [
    "# Use the mean() method to display the mean of 2 or more columns"
   ]
  },
  {
   "cell_type": "markdown",
   "metadata": {},
   "source": [
    "#### Median or 50% percentile\n",
    "\n",
    "Median : "
   ]
  },
  {
   "cell_type": "code",
   "execution_count": null,
   "metadata": {},
   "outputs": [],
   "source": [
    "# Use the median() method to display the median of all columns\n"
   ]
  },
  {
   "cell_type": "markdown",
   "metadata": {},
   "source": [
    "#### Mode\n",
    "\n",
    "The most number of times a value occurs in a dataset.  Take the counts of every single value in a dataset and the value with the highest count is the mode.\n",
    "Generally used for categorical data or discrete data."
   ]
  },
  {
   "cell_type": "code",
   "execution_count": null,
   "metadata": {},
   "outputs": [],
   "source": [
    "# Use the mode() method to display the median of all columns\n"
   ]
  },
  {
   "cell_type": "markdown",
   "metadata": {},
   "source": [
    "#### Range\n",
    "\n",
    "The Range is the difference between the max value in a data set and the highest.  This function is not part of the core pandas functions so we have write our own. "
   ]
  },
  {
   "cell_type": "code",
   "execution_count": null,
   "metadata": {},
   "outputs": [],
   "source": [
    "# lets define a function to calculate the range. The range is the difference between the maximum and minimum values.\n"
   ]
  },
  {
   "cell_type": "code",
   "execution_count": null,
   "metadata": {},
   "outputs": [],
   "source": [
    "# Use the apply() method to apply the range() function to all columns\n"
   ]
  },
  {
   "cell_type": "markdown",
   "metadata": {},
   "source": [
    "### Creating Your Own Describe Function\n",
    "\n",
    "If you need additional functions or different functions to describe your data, we can make new functions and use them with the `.agg` function.  This allows you to use other modules as well. "
   ]
  },
  {
   "cell_type": "code",
   "execution_count": null,
   "metadata": {},
   "outputs": [],
   "source": [
    "# Use the agg() method to choose what columns and which aggregation functions to use on them including our Range function\n",
    "# The agg() method allows us to perform multiple statistical calculations on a column in one line of code but each measure must\n",
    "# have a single result per series.\n",
    " "
   ]
  },
  {
   "cell_type": "code",
   "execution_count": null,
   "metadata": {},
   "outputs": [],
   "source": [
    "# Use the agg() method with mode and see what happens!!!\n"
   ]
  },
  {
   "cell_type": "markdown",
   "metadata": {},
   "source": [
    "## Pratical Question:  Is it better to know a companies Median or Mean when estimating your salary at the position? "
   ]
  },
  {
   "cell_type": "markdown",
   "metadata": {},
   "source": [
    "\n",
    "\n",
    "\n",
    "\n",
    "\n",
    "\n",
    "\n",
    "\n",
    "\n",
    "\n",
    "\n",
    "\n",
    "\n",
    "\n",
    "\n",
    "\n",
    "\n"
   ]
  },
  {
   "cell_type": "markdown",
   "metadata": {},
   "source": [
    "<a href=\"https://www.researchgate.net/figure/A-histogram-of-salaries-with-the-mean-red-line-and-median-green-line-and-normal_fig1_275329571\"><img src=\"https://www.researchgate.net/profile/Petro-Poutanen/publication/275329571/figure/fig1/AS:294472320602115@1447219080862/A-histogram-of-salaries-with-the-mean-red-line-and-median-green-line-and-normal.png\" alt=\"1: A histogram of salaries with the mean (red line) and median (green line) and normal curve.\"/></a>\n",
    "\n",
    "Originally from: \n",
    "Quantitative Methods for Communication Students - Scientific Figure on ResearchGate. Available from: https://www.researchgate.net/figure/A-histogram-of-salaries-with-the-mean-red-line-and-median-green-line-and-normal_fig1_275329571 [accessed 15 Nov, 2023]"
   ]
  },
  {
   "cell_type": "markdown",
   "metadata": {},
   "source": []
  }
 ],
 "metadata": {
  "kernelspec": {
   "display_name": "dev",
   "language": "python",
   "name": "python3"
  },
  "language_info": {
   "codemirror_mode": {
    "name": "ipython",
    "version": 3
   },
   "file_extension": ".py",
   "mimetype": "text/x-python",
   "name": "python",
   "nbconvert_exporter": "python",
   "pygments_lexer": "ipython3",
   "version": "3.10.12"
  }
 },
 "nbformat": 4,
 "nbformat_minor": 2
}
