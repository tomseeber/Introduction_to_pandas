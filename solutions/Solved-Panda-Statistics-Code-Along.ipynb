{
 "cells": [
  {
   "cell_type": "code",
   "execution_count": 4,
   "metadata": {},
   "outputs": [],
   "source": [
    "import pandas as pd\n",
    "import numpy as np\n",
    "import seaborn as sns\n",
    "from matplotlib import pyplot as plt"
   ]
  },
  {
   "cell_type": "markdown",
   "metadata": {},
   "source": [
    "## Import CSV data from CSV"
   ]
  },
  {
   "cell_type": "markdown",
   "metadata": {},
   "source": [
    "### Import CSV data from CSV with header"
   ]
  },
  {
   "cell_type": "code",
   "execution_count": 5,
   "metadata": {},
   "outputs": [],
   "source": [
    "# Read in the data from the csv file with Pandas\n",
    "height_weight_df = pd.read_csv('../data/Weight_Height.csv')\n",
    "\n",
    "\n",
    "# Data From CDC\n",
    "# National Health and Nutrition Examination Survey\n",
    "# 2017-March 2020 Data Documentation, Codebook, and Frequencies\n",
    "# Body Measures (P_BMX)\n",
    "# Data File: P_BMX.xpt\n",
    "# First Published: May 2021\n",
    "# Last Revised: NA\n",
    "# https://wwwn.cdc.gov/Nchs/Nhanes/2017-2018/P_BMX.htm"
   ]
  },
  {
   "cell_type": "markdown",
   "metadata": {},
   "source": [
    "Want more information on the read_csv function? \n",
    "\n",
    "[Check out the Pandas read_csv documentation](https://pandas.pydata.org/docs/reference/api/pandas.read_csv.html)\n"
   ]
  },
  {
   "cell_type": "markdown",
   "metadata": {},
   "source": [
    "## Basic Panda Operations"
   ]
  },
  {
   "cell_type": "code",
   "execution_count": 6,
   "metadata": {},
   "outputs": [
    {
     "data": {
      "text/html": [
       "<div>\n",
       "<style scoped>\n",
       "    .dataframe tbody tr th:only-of-type {\n",
       "        vertical-align: middle;\n",
       "    }\n",
       "\n",
       "    .dataframe tbody tr th {\n",
       "        vertical-align: top;\n",
       "    }\n",
       "\n",
       "    .dataframe thead th {\n",
       "        text-align: right;\n",
       "    }\n",
       "</style>\n",
       "<table border=\"1\" class=\"dataframe\">\n",
       "  <thead>\n",
       "    <tr style=\"text-align: right;\">\n",
       "      <th></th>\n",
       "      <th>index</th>\n",
       "      <th>Weight (kg)</th>\n",
       "      <th>Standing Height (cm)</th>\n",
       "      <th>BMI(kg/m**2)</th>\n",
       "    </tr>\n",
       "  </thead>\n",
       "  <tbody>\n",
       "    <tr>\n",
       "      <th>0</th>\n",
       "      <td>0</td>\n",
       "      <td>97.1</td>\n",
       "      <td>160.2</td>\n",
       "      <td>37.8</td>\n",
       "    </tr>\n",
       "    <tr>\n",
       "      <th>1</th>\n",
       "      <td>1</td>\n",
       "      <td>98.8</td>\n",
       "      <td>182.3</td>\n",
       "      <td>29.7</td>\n",
       "    </tr>\n",
       "    <tr>\n",
       "      <th>2</th>\n",
       "      <td>2</td>\n",
       "      <td>74.3</td>\n",
       "      <td>184.2</td>\n",
       "      <td>21.9</td>\n",
       "    </tr>\n",
       "    <tr>\n",
       "      <th>3</th>\n",
       "      <td>3</td>\n",
       "      <td>103.7</td>\n",
       "      <td>185.3</td>\n",
       "      <td>30.2</td>\n",
       "    </tr>\n",
       "    <tr>\n",
       "      <th>4</th>\n",
       "      <td>4</td>\n",
       "      <td>83.3</td>\n",
       "      <td>177.1</td>\n",
       "      <td>26.6</td>\n",
       "    </tr>\n",
       "  </tbody>\n",
       "</table>\n",
       "</div>"
      ],
      "text/plain": [
       "   index  Weight (kg)  Standing Height (cm)  BMI(kg/m**2)\n",
       "0      0         97.1                 160.2          37.8\n",
       "1      1         98.8                 182.3          29.7\n",
       "2      2         74.3                 184.2          21.9\n",
       "3      3        103.7                 185.3          30.2\n",
       "4      4         83.3                 177.1          26.6"
      ]
     },
     "execution_count": 6,
     "metadata": {},
     "output_type": "execute_result"
    }
   ],
   "source": [
    "# Use the head() method to display the first 5 rows of the data\n",
    "\n",
    "height_weight_df.head(5)"
   ]
  },
  {
   "cell_type": "code",
   "execution_count": 7,
   "metadata": {},
   "outputs": [
    {
     "data": {
      "text/html": [
       "<div>\n",
       "<style scoped>\n",
       "    .dataframe tbody tr th:only-of-type {\n",
       "        vertical-align: middle;\n",
       "    }\n",
       "\n",
       "    .dataframe tbody tr th {\n",
       "        vertical-align: top;\n",
       "    }\n",
       "\n",
       "    .dataframe thead th {\n",
       "        text-align: right;\n",
       "    }\n",
       "</style>\n",
       "<table border=\"1\" class=\"dataframe\">\n",
       "  <thead>\n",
       "    <tr style=\"text-align: right;\">\n",
       "      <th></th>\n",
       "      <th>index</th>\n",
       "      <th>Weight (kg)</th>\n",
       "      <th>Standing Height (cm)</th>\n",
       "      <th>BMI(kg/m**2)</th>\n",
       "    </tr>\n",
       "  </thead>\n",
       "  <tbody>\n",
       "    <tr>\n",
       "      <th>8383</th>\n",
       "      <td>8383</td>\n",
       "      <td>94.3</td>\n",
       "      <td>178.8</td>\n",
       "      <td>29.5</td>\n",
       "    </tr>\n",
       "    <tr>\n",
       "      <th>8384</th>\n",
       "      <td>8384</td>\n",
       "      <td>82.8</td>\n",
       "      <td>147.8</td>\n",
       "      <td>37.9</td>\n",
       "    </tr>\n",
       "    <tr>\n",
       "      <th>8385</th>\n",
       "      <td>8385</td>\n",
       "      <td>108.8</td>\n",
       "      <td>168.7</td>\n",
       "      <td>38.2</td>\n",
       "    </tr>\n",
       "    <tr>\n",
       "      <th>8386</th>\n",
       "      <td>8386</td>\n",
       "      <td>79.5</td>\n",
       "      <td>176.4</td>\n",
       "      <td>25.5</td>\n",
       "    </tr>\n",
       "    <tr>\n",
       "      <th>8387</th>\n",
       "      <td>8387</td>\n",
       "      <td>59.7</td>\n",
       "      <td>167.5</td>\n",
       "      <td>21.3</td>\n",
       "    </tr>\n",
       "  </tbody>\n",
       "</table>\n",
       "</div>"
      ],
      "text/plain": [
       "      index  Weight (kg)  Standing Height (cm)  BMI(kg/m**2)\n",
       "8383   8383         94.3                 178.8          29.5\n",
       "8384   8384         82.8                 147.8          37.9\n",
       "8385   8385        108.8                 168.7          38.2\n",
       "8386   8386         79.5                 176.4          25.5\n",
       "8387   8387         59.7                 167.5          21.3"
      ]
     },
     "execution_count": 7,
     "metadata": {},
     "output_type": "execute_result"
    }
   ],
   "source": [
    "# Use the tail() method to display the last 5 rows of the data\n",
    "height_weight_df.tail(5)"
   ]
  },
  {
   "cell_type": "code",
   "execution_count": 8,
   "metadata": {},
   "outputs": [
    {
     "name": "stdout",
     "output_type": "stream",
     "text": [
      "<class 'pandas.core.frame.DataFrame'>\n",
      "RangeIndex: 8388 entries, 0 to 8387\n",
      "Data columns (total 4 columns):\n",
      " #   Column                Non-Null Count  Dtype  \n",
      "---  ------                --------------  -----  \n",
      " 0   index                 8388 non-null   int64  \n",
      " 1   Weight (kg)           8388 non-null   float64\n",
      " 2   Standing Height (cm)  8388 non-null   float64\n",
      " 3   BMI(kg/m**2)          8388 non-null   float64\n",
      "dtypes: float64(3), int64(1)\n",
      "memory usage: 262.2 KB\n"
     ]
    }
   ],
   "source": [
    "# Use the info() method to display the data types of each column\n",
    "height_weight_df.info()"
   ]
  },
  {
   "cell_type": "code",
   "execution_count": 9,
   "metadata": {},
   "outputs": [],
   "source": [
    "# Drop unnecessary columns\n",
    "# Use the drop() method to drop the 'index' column  from the data  \n",
    "\n",
    "height_weight_clean_df = height_weight_df.drop('index', axis=1)"
   ]
  },
  {
   "cell_type": "markdown",
   "metadata": {},
   "source": [
    "## Basic Statistical Functions for Use in Pandas"
   ]
  },
  {
   "cell_type": "markdown",
   "metadata": {},
   "source": [
    "### Describe function"
   ]
  },
  {
   "cell_type": "code",
   "execution_count": 10,
   "metadata": {},
   "outputs": [
    {
     "data": {
      "text/html": [
       "<div>\n",
       "<style scoped>\n",
       "    .dataframe tbody tr th:only-of-type {\n",
       "        vertical-align: middle;\n",
       "    }\n",
       "\n",
       "    .dataframe tbody tr th {\n",
       "        vertical-align: top;\n",
       "    }\n",
       "\n",
       "    .dataframe thead th {\n",
       "        text-align: right;\n",
       "    }\n",
       "</style>\n",
       "<table border=\"1\" class=\"dataframe\">\n",
       "  <thead>\n",
       "    <tr style=\"text-align: right;\">\n",
       "      <th></th>\n",
       "      <th>Weight (kg)</th>\n",
       "      <th>Standing Height (cm)</th>\n",
       "      <th>BMI(kg/m**2)</th>\n",
       "    </tr>\n",
       "  </thead>\n",
       "  <tbody>\n",
       "    <tr>\n",
       "      <th>count</th>\n",
       "      <td>8388.000000</td>\n",
       "      <td>8388.000000</td>\n",
       "      <td>8388.000000</td>\n",
       "    </tr>\n",
       "    <tr>\n",
       "      <th>mean</th>\n",
       "      <td>83.669218</td>\n",
       "      <td>166.641190</td>\n",
       "      <td>30.034859</td>\n",
       "    </tr>\n",
       "    <tr>\n",
       "      <th>std</th>\n",
       "      <td>23.171638</td>\n",
       "      <td>10.079013</td>\n",
       "      <td>7.565376</td>\n",
       "    </tr>\n",
       "    <tr>\n",
       "      <th>min</th>\n",
       "      <td>32.600000</td>\n",
       "      <td>131.100000</td>\n",
       "      <td>14.200000</td>\n",
       "    </tr>\n",
       "    <tr>\n",
       "      <th>25%</th>\n",
       "      <td>67.600000</td>\n",
       "      <td>159.100000</td>\n",
       "      <td>24.900000</td>\n",
       "    </tr>\n",
       "    <tr>\n",
       "      <th>50%</th>\n",
       "      <td>79.900000</td>\n",
       "      <td>166.200000</td>\n",
       "      <td>28.800000</td>\n",
       "    </tr>\n",
       "    <tr>\n",
       "      <th>75%</th>\n",
       "      <td>95.800000</td>\n",
       "      <td>173.900000</td>\n",
       "      <td>33.800000</td>\n",
       "    </tr>\n",
       "    <tr>\n",
       "      <th>max</th>\n",
       "      <td>254.300000</td>\n",
       "      <td>199.600000</td>\n",
       "      <td>92.300000</td>\n",
       "    </tr>\n",
       "  </tbody>\n",
       "</table>\n",
       "</div>"
      ],
      "text/plain": [
       "       Weight (kg)  Standing Height (cm)  BMI(kg/m**2)\n",
       "count  8388.000000           8388.000000   8388.000000\n",
       "mean     83.669218            166.641190     30.034859\n",
       "std      23.171638             10.079013      7.565376\n",
       "min      32.600000            131.100000     14.200000\n",
       "25%      67.600000            159.100000     24.900000\n",
       "50%      79.900000            166.200000     28.800000\n",
       "75%      95.800000            173.900000     33.800000\n",
       "max     254.300000            199.600000     92.300000"
      ]
     },
     "execution_count": 10,
     "metadata": {},
     "output_type": "execute_result"
    }
   ],
   "source": [
    "# Use the describe() method to display some basic statistical details like percentile, mean, std etc. of numeric columns\n",
    "height_weight_clean_df.describe()"
   ]
  },
  {
   "cell_type": "code",
   "execution_count": 11,
   "metadata": {},
   "outputs": [
    {
     "data": {
      "text/plain": [
       "count    8388.000000\n",
       "mean      166.641190\n",
       "std        10.079013\n",
       "min       131.100000\n",
       "25%       159.100000\n",
       "50%       166.200000\n",
       "75%       173.900000\n",
       "max       199.600000\n",
       "Name: Standing Height (cm), dtype: float64"
      ]
     },
     "execution_count": 11,
     "metadata": {},
     "output_type": "execute_result"
    }
   ],
   "source": [
    "# Use the describe() method to display some basic statistical details from 1 column\n",
    "height_weight_clean_df['Standing Height (cm)'].describe()"
   ]
  },
  {
   "cell_type": "code",
   "execution_count": 12,
   "metadata": {},
   "outputs": [
    {
     "data": {
      "text/html": [
       "<div>\n",
       "<style scoped>\n",
       "    .dataframe tbody tr th:only-of-type {\n",
       "        vertical-align: middle;\n",
       "    }\n",
       "\n",
       "    .dataframe tbody tr th {\n",
       "        vertical-align: top;\n",
       "    }\n",
       "\n",
       "    .dataframe thead th {\n",
       "        text-align: right;\n",
       "    }\n",
       "</style>\n",
       "<table border=\"1\" class=\"dataframe\">\n",
       "  <thead>\n",
       "    <tr style=\"text-align: right;\">\n",
       "      <th></th>\n",
       "      <th>Standing Height (cm)</th>\n",
       "      <th>Weight (kg)</th>\n",
       "    </tr>\n",
       "  </thead>\n",
       "  <tbody>\n",
       "    <tr>\n",
       "      <th>count</th>\n",
       "      <td>8388.000000</td>\n",
       "      <td>8388.000000</td>\n",
       "    </tr>\n",
       "    <tr>\n",
       "      <th>mean</th>\n",
       "      <td>166.641190</td>\n",
       "      <td>83.669218</td>\n",
       "    </tr>\n",
       "    <tr>\n",
       "      <th>std</th>\n",
       "      <td>10.079013</td>\n",
       "      <td>23.171638</td>\n",
       "    </tr>\n",
       "    <tr>\n",
       "      <th>min</th>\n",
       "      <td>131.100000</td>\n",
       "      <td>32.600000</td>\n",
       "    </tr>\n",
       "    <tr>\n",
       "      <th>25%</th>\n",
       "      <td>159.100000</td>\n",
       "      <td>67.600000</td>\n",
       "    </tr>\n",
       "    <tr>\n",
       "      <th>50%</th>\n",
       "      <td>166.200000</td>\n",
       "      <td>79.900000</td>\n",
       "    </tr>\n",
       "    <tr>\n",
       "      <th>75%</th>\n",
       "      <td>173.900000</td>\n",
       "      <td>95.800000</td>\n",
       "    </tr>\n",
       "    <tr>\n",
       "      <th>max</th>\n",
       "      <td>199.600000</td>\n",
       "      <td>254.300000</td>\n",
       "    </tr>\n",
       "  </tbody>\n",
       "</table>\n",
       "</div>"
      ],
      "text/plain": [
       "       Standing Height (cm)  Weight (kg)\n",
       "count           8388.000000  8388.000000\n",
       "mean             166.641190    83.669218\n",
       "std               10.079013    23.171638\n",
       "min              131.100000    32.600000\n",
       "25%              159.100000    67.600000\n",
       "50%              166.200000    79.900000\n",
       "75%              173.900000    95.800000\n",
       "max              199.600000   254.300000"
      ]
     },
     "execution_count": 12,
     "metadata": {},
     "output_type": "execute_result"
    }
   ],
   "source": [
    "# Use the describe() method to display some basic statistical details from 2 or More column\n",
    "height_weight_clean_df[['Standing Height (cm)', 'Weight (kg)']].describe()"
   ]
  },
  {
   "cell_type": "markdown",
   "metadata": {},
   "source": [
    "### Other Built in Statstical Functions\n",
    "\n",
    "Individual functions built into pandas data frame for use \n",
    "- `count()`: Counts the number of non-NA/null observations.\n",
    "- `sum()`: Sums the values for the requested axis.\n",
    "- `mean()`: Computes the mean of the values.\n",
    "- `median()`: Computes the median of the values.\n",
    "- `min()`: Finds the minimum value.\n",
    "- `max()`: Finds the maximum value.\n",
    "- `mode()`: Computes the mode of the values.\n",
    "- `std()`: Computes the standard deviation of the values.\n",
    "- `var()`: Computes the variance of the values.\n",
    "- `sem()`: Computes the standard error of the mean of the values.\n",
    "- `describe()`: Generates descriptive statistics that summarize the central tendency, dispersion, and shape of a dataset’s distribution.\n",
    "- `quantile()`: Computes the quantile of the values.\n",
    "- `cumsum()`: Computes the cumulative sum of the values.\n",
    "- `cumprod()`: Computes the cumulative product of the values.\n",
    "- `cummax()`: Computes the cumulative maximum of the values.\n",
    "- `cummin()`: Computes the cumulative minimum of the values.\n",
    "- `skew()`: Computes the skewness of the values, a measure of the asymmetry of the probability distribution.\n",
    "- `kurt()`: Computes the kurtosis of the values, a measure of the \"tailedness\" of the probability distribution.\n",
    "- `corr()`: Computes the correlation between columns in a DataFrame.\n",
    "- `cov()`: Computes the covariance between columns in a DataFrame.\n"
   ]
  },
  {
   "cell_type": "markdown",
   "metadata": {},
   "source": [
    "### Mean and Median Examples \n",
    "\n",
    "#### Mean\n",
    "\n",
    "Average of the set:  ( sum of all items )  / ( total number of means)"
   ]
  },
  {
   "cell_type": "code",
   "execution_count": 13,
   "metadata": {},
   "outputs": [
    {
     "data": {
      "text/plain": [
       "Weight (kg)              83.669218\n",
       "Standing Height (cm)    166.641190\n",
       "BMI(kg/m**2)             30.034859\n",
       "dtype: float64"
      ]
     },
     "execution_count": 13,
     "metadata": {},
     "output_type": "execute_result"
    }
   ],
   "source": [
    "# Use the mean() method to display the mean of all columns\n",
    "height_weight_clean_df.mean()"
   ]
  },
  {
   "cell_type": "code",
   "execution_count": 14,
   "metadata": {},
   "outputs": [
    {
     "data": {
      "text/plain": [
       "166.64118979494518"
      ]
     },
     "execution_count": 14,
     "metadata": {},
     "output_type": "execute_result"
    }
   ],
   "source": [
    "# Use the mean() method to display the mean of a columns\n",
    "height_weight_clean_df['Standing Height (cm)'].mean()"
   ]
  },
  {
   "cell_type": "code",
   "execution_count": 15,
   "metadata": {},
   "outputs": [
    {
     "data": {
      "text/plain": [
       "Standing Height (cm)    166.641190\n",
       "Weight (kg)              83.669218\n",
       "dtype: float64"
      ]
     },
     "execution_count": 15,
     "metadata": {},
     "output_type": "execute_result"
    }
   ],
   "source": [
    "# Use the mean() method to display the mean of 2 or more columns\n",
    "height_weight_clean_df[['Standing Height (cm)','Weight (kg)']].mean()"
   ]
  },
  {
   "cell_type": "markdown",
   "metadata": {},
   "source": [
    "#### Median or 50% percentile\n",
    "\n",
    "Median : "
   ]
  },
  {
   "cell_type": "code",
   "execution_count": 16,
   "metadata": {},
   "outputs": [
    {
     "data": {
      "text/plain": [
       "Weight (kg)              79.9\n",
       "Standing Height (cm)    166.2\n",
       "BMI(kg/m**2)             28.8\n",
       "dtype: float64"
      ]
     },
     "execution_count": 16,
     "metadata": {},
     "output_type": "execute_result"
    }
   ],
   "source": [
    "# Use the median() method to display the median of all columns\n",
    "height_weight_clean_df.median()"
   ]
  },
  {
   "cell_type": "markdown",
   "metadata": {},
   "source": [
    "#### Mode\n",
    "\n",
    "The most number of times a value occurs in a dataset.  Take the counts of every single value in a dataset and the value with the highest count is the mode.\n",
    "Generally used for categorical data or discrete data."
   ]
  },
  {
   "cell_type": "code",
   "execution_count": 17,
   "metadata": {},
   "outputs": [
    {
     "data": {
      "text/html": [
       "<div>\n",
       "<style scoped>\n",
       "    .dataframe tbody tr th:only-of-type {\n",
       "        vertical-align: middle;\n",
       "    }\n",
       "\n",
       "    .dataframe tbody tr th {\n",
       "        vertical-align: top;\n",
       "    }\n",
       "\n",
       "    .dataframe thead th {\n",
       "        text-align: right;\n",
       "    }\n",
       "</style>\n",
       "<table border=\"1\" class=\"dataframe\">\n",
       "  <thead>\n",
       "    <tr style=\"text-align: right;\">\n",
       "      <th></th>\n",
       "      <th>Weight (kg)</th>\n",
       "      <th>Standing Height (cm)</th>\n",
       "      <th>BMI(kg/m**2)</th>\n",
       "    </tr>\n",
       "  </thead>\n",
       "  <tbody>\n",
       "    <tr>\n",
       "      <th>0</th>\n",
       "      <td>75.8</td>\n",
       "      <td>164.6</td>\n",
       "      <td>29.1</td>\n",
       "    </tr>\n",
       "  </tbody>\n",
       "</table>\n",
       "</div>"
      ],
      "text/plain": [
       "   Weight (kg)  Standing Height (cm)  BMI(kg/m**2)\n",
       "0         75.8                 164.6          29.1"
      ]
     },
     "execution_count": 17,
     "metadata": {},
     "output_type": "execute_result"
    }
   ],
   "source": [
    "# Use the mode() method to display the median of all columns\n",
    "height_weight_clean_df.mode()"
   ]
  },
  {
   "cell_type": "markdown",
   "metadata": {},
   "source": [
    "#### Range\n",
    "\n",
    "The Range is the difference between the max value in a data set and the highest.  This function is not part of the core pandas functions so we have write our own. "
   ]
  },
  {
   "cell_type": "code",
   "execution_count": 18,
   "metadata": {},
   "outputs": [],
   "source": [
    "# lets define a function to calculate the range. The range is the difference between the maximum and minimum values.\n",
    "def range_f(column):\n",
    "    return column.max() - column.min()\n",
    "\n"
   ]
  },
  {
   "cell_type": "code",
   "execution_count": 19,
   "metadata": {},
   "outputs": [
    {
     "data": {
      "text/plain": [
       "Weight (kg)             221.7\n",
       "Standing Height (cm)     68.5\n",
       "BMI(kg/m**2)             78.1\n",
       "dtype: float64"
      ]
     },
     "execution_count": 19,
     "metadata": {},
     "output_type": "execute_result"
    }
   ],
   "source": [
    "# Use the apply() method to apply the range() function to all columns\n",
    "height_weight_clean_df.apply(range_f)"
   ]
  },
  {
   "cell_type": "markdown",
   "metadata": {},
   "source": [
    "### Creating Your Own Describe Function\n",
    "\n",
    "If you need additional functions or different functions to describe your data, we can make new functions and use them with the `.agg` function.  This allows you to use other modules as well. "
   ]
  },
  {
   "cell_type": "code",
   "execution_count": 20,
   "metadata": {},
   "outputs": [
    {
     "data": {
      "text/html": [
       "<div>\n",
       "<style scoped>\n",
       "    .dataframe tbody tr th:only-of-type {\n",
       "        vertical-align: middle;\n",
       "    }\n",
       "\n",
       "    .dataframe tbody tr th {\n",
       "        vertical-align: top;\n",
       "    }\n",
       "\n",
       "    .dataframe thead th {\n",
       "        text-align: right;\n",
       "    }\n",
       "</style>\n",
       "<table border=\"1\" class=\"dataframe\">\n",
       "  <thead>\n",
       "    <tr style=\"text-align: right;\">\n",
       "      <th></th>\n",
       "      <th>Weight (kg)</th>\n",
       "      <th>Standing Height (cm)</th>\n",
       "      <th>BMI(kg/m**2)</th>\n",
       "    </tr>\n",
       "  </thead>\n",
       "  <tbody>\n",
       "    <tr>\n",
       "      <th>count</th>\n",
       "      <td>8388.000000</td>\n",
       "      <td>8388.00000</td>\n",
       "      <td>8388.000000</td>\n",
       "    </tr>\n",
       "    <tr>\n",
       "      <th>mean</th>\n",
       "      <td>83.669218</td>\n",
       "      <td>166.64119</td>\n",
       "      <td>30.034859</td>\n",
       "    </tr>\n",
       "    <tr>\n",
       "      <th>median</th>\n",
       "      <td>79.900000</td>\n",
       "      <td>166.20000</td>\n",
       "      <td>28.800000</td>\n",
       "    </tr>\n",
       "    <tr>\n",
       "      <th>min</th>\n",
       "      <td>32.600000</td>\n",
       "      <td>131.10000</td>\n",
       "      <td>14.200000</td>\n",
       "    </tr>\n",
       "    <tr>\n",
       "      <th>max</th>\n",
       "      <td>254.300000</td>\n",
       "      <td>199.60000</td>\n",
       "      <td>92.300000</td>\n",
       "    </tr>\n",
       "    <tr>\n",
       "      <th>range_f</th>\n",
       "      <td>221.700000</td>\n",
       "      <td>68.50000</td>\n",
       "      <td>78.100000</td>\n",
       "    </tr>\n",
       "  </tbody>\n",
       "</table>\n",
       "</div>"
      ],
      "text/plain": [
       "         Weight (kg)  Standing Height (cm)  BMI(kg/m**2)\n",
       "count    8388.000000            8388.00000   8388.000000\n",
       "mean       83.669218             166.64119     30.034859\n",
       "median     79.900000             166.20000     28.800000\n",
       "min        32.600000             131.10000     14.200000\n",
       "max       254.300000             199.60000     92.300000\n",
       "range_f   221.700000              68.50000     78.100000"
      ]
     },
     "execution_count": 20,
     "metadata": {},
     "output_type": "execute_result"
    }
   ],
   "source": [
    "# Use the agg() method to choose what columns and which aggregation functions to use on them including our Range function\n",
    "height_weight_clean_df.agg(['count','mean','median','min', 'max', range_f])"
   ]
  },
  {
   "cell_type": "code",
   "execution_count": 21,
   "metadata": {},
   "outputs": [
    {
     "ename": "ValueError",
     "evalue": "cannot combine transform and aggregation operations",
     "output_type": "error",
     "traceback": [
      "\u001b[0;31m---------------------------------------------------------------------------\u001b[0m",
      "\u001b[0;31mTypeError\u001b[0m                                 Traceback (most recent call last)",
      "File \u001b[0;32m/opt/anaconda3/envs/dev/lib/python3.10/site-packages/pandas/core/apply.py:448\u001b[0m, in \u001b[0;36mApply.agg_list_like\u001b[0;34m(self)\u001b[0m\n\u001b[1;32m    447\u001b[0m \u001b[39mtry\u001b[39;00m:\n\u001b[0;32m--> 448\u001b[0m     concatenated \u001b[39m=\u001b[39m concat(results, keys\u001b[39m=\u001b[39;49mkeys, axis\u001b[39m=\u001b[39;49m\u001b[39m1\u001b[39;49m, sort\u001b[39m=\u001b[39;49m\u001b[39mFalse\u001b[39;49;00m)\n\u001b[1;32m    449\u001b[0m \u001b[39mexcept\u001b[39;00m \u001b[39mTypeError\u001b[39;00m \u001b[39mas\u001b[39;00m err:\n\u001b[1;32m    450\u001b[0m     \u001b[39m# we are concatting non-NDFrame objects,\u001b[39;00m\n\u001b[1;32m    451\u001b[0m     \u001b[39m# e.g. a list of scalars\u001b[39;00m\n",
      "File \u001b[0;32m/opt/anaconda3/envs/dev/lib/python3.10/site-packages/pandas/util/_decorators.py:331\u001b[0m, in \u001b[0;36mdeprecate_nonkeyword_arguments.<locals>.decorate.<locals>.wrapper\u001b[0;34m(*args, **kwargs)\u001b[0m\n\u001b[1;32m    326\u001b[0m     warnings\u001b[39m.\u001b[39mwarn(\n\u001b[1;32m    327\u001b[0m         msg\u001b[39m.\u001b[39mformat(arguments\u001b[39m=\u001b[39m_format_argument_list(allow_args)),\n\u001b[1;32m    328\u001b[0m         \u001b[39mFutureWarning\u001b[39;00m,\n\u001b[1;32m    329\u001b[0m         stacklevel\u001b[39m=\u001b[39mfind_stack_level(),\n\u001b[1;32m    330\u001b[0m     )\n\u001b[0;32m--> 331\u001b[0m \u001b[39mreturn\u001b[39;00m func(\u001b[39m*\u001b[39;49margs, \u001b[39m*\u001b[39;49m\u001b[39m*\u001b[39;49mkwargs)\n",
      "File \u001b[0;32m/opt/anaconda3/envs/dev/lib/python3.10/site-packages/pandas/core/reshape/concat.py:368\u001b[0m, in \u001b[0;36mconcat\u001b[0;34m(objs, axis, join, ignore_index, keys, levels, names, verify_integrity, sort, copy)\u001b[0m\n\u001b[1;32m    159\u001b[0m \u001b[39m\u001b[39m\u001b[39m\"\"\"\u001b[39;00m\n\u001b[1;32m    160\u001b[0m \u001b[39mConcatenate pandas objects along a particular axis.\u001b[39;00m\n\u001b[1;32m    161\u001b[0m \n\u001b[0;32m   (...)\u001b[0m\n\u001b[1;32m    366\u001b[0m \u001b[39m1   3   4\u001b[39;00m\n\u001b[1;32m    367\u001b[0m \u001b[39m\"\"\"\u001b[39;00m\n\u001b[0;32m--> 368\u001b[0m op \u001b[39m=\u001b[39m _Concatenator(\n\u001b[1;32m    369\u001b[0m     objs,\n\u001b[1;32m    370\u001b[0m     axis\u001b[39m=\u001b[39;49maxis,\n\u001b[1;32m    371\u001b[0m     ignore_index\u001b[39m=\u001b[39;49mignore_index,\n\u001b[1;32m    372\u001b[0m     join\u001b[39m=\u001b[39;49mjoin,\n\u001b[1;32m    373\u001b[0m     keys\u001b[39m=\u001b[39;49mkeys,\n\u001b[1;32m    374\u001b[0m     levels\u001b[39m=\u001b[39;49mlevels,\n\u001b[1;32m    375\u001b[0m     names\u001b[39m=\u001b[39;49mnames,\n\u001b[1;32m    376\u001b[0m     verify_integrity\u001b[39m=\u001b[39;49mverify_integrity,\n\u001b[1;32m    377\u001b[0m     copy\u001b[39m=\u001b[39;49mcopy,\n\u001b[1;32m    378\u001b[0m     sort\u001b[39m=\u001b[39;49msort,\n\u001b[1;32m    379\u001b[0m )\n\u001b[1;32m    381\u001b[0m \u001b[39mreturn\u001b[39;00m op\u001b[39m.\u001b[39mget_result()\n",
      "File \u001b[0;32m/opt/anaconda3/envs/dev/lib/python3.10/site-packages/pandas/core/reshape/concat.py:458\u001b[0m, in \u001b[0;36m_Concatenator.__init__\u001b[0;34m(self, objs, axis, join, keys, levels, names, ignore_index, verify_integrity, copy, sort)\u001b[0m\n\u001b[1;32m    454\u001b[0m     msg \u001b[39m=\u001b[39m (\n\u001b[1;32m    455\u001b[0m         \u001b[39mf\u001b[39m\u001b[39m\"\u001b[39m\u001b[39mcannot concatenate object of type \u001b[39m\u001b[39m'\u001b[39m\u001b[39m{\u001b[39;00m\u001b[39mtype\u001b[39m(obj)\u001b[39m}\u001b[39;00m\u001b[39m'\u001b[39m\u001b[39m; \u001b[39m\u001b[39m\"\u001b[39m\n\u001b[1;32m    456\u001b[0m         \u001b[39m\"\u001b[39m\u001b[39monly Series and DataFrame objs are valid\u001b[39m\u001b[39m\"\u001b[39m\n\u001b[1;32m    457\u001b[0m     )\n\u001b[0;32m--> 458\u001b[0m     \u001b[39mraise\u001b[39;00m \u001b[39mTypeError\u001b[39;00m(msg)\n\u001b[1;32m    460\u001b[0m ndims\u001b[39m.\u001b[39madd(obj\u001b[39m.\u001b[39mndim)\n",
      "\u001b[0;31mTypeError\u001b[0m: cannot concatenate object of type '<class 'numpy.int64'>'; only Series and DataFrame objs are valid",
      "\nThe above exception was the direct cause of the following exception:\n",
      "\u001b[0;31mValueError\u001b[0m                                Traceback (most recent call last)",
      "\u001b[1;32m/Users/thomasseeber/Documents/CODE/GrandCircus/Introduction_to_pandas/solutions/Solved-Panda-Statistics-Code-Along.ipynb Cell 30\u001b[0m line \u001b[0;36m3\n\u001b[1;32m      <a href='vscode-notebook-cell:/Users/thomasseeber/Documents/CODE/GrandCircus/Introduction_to_pandas/solutions/Solved-Panda-Statistics-Code-Along.ipynb#X41sZmlsZQ%3D%3D?line=0'>1</a>\u001b[0m \u001b[39m# Use the agg() method with mode and see what happens!!!  Explain! \u001b[39;00m\n\u001b[0;32m----> <a href='vscode-notebook-cell:/Users/thomasseeber/Documents/CODE/GrandCircus/Introduction_to_pandas/solutions/Solved-Panda-Statistics-Code-Along.ipynb#X41sZmlsZQ%3D%3D?line=2'>3</a>\u001b[0m height_weight_clean_df\u001b[39m.\u001b[39;49magg([\u001b[39m'\u001b[39;49m\u001b[39mcount\u001b[39;49m\u001b[39m'\u001b[39;49m,\u001b[39m'\u001b[39;49m\u001b[39mmean\u001b[39;49m\u001b[39m'\u001b[39;49m,\u001b[39m'\u001b[39;49m\u001b[39mmedian\u001b[39;49m\u001b[39m'\u001b[39;49m,\u001b[39m'\u001b[39;49m\u001b[39mmin\u001b[39;49m\u001b[39m'\u001b[39;49m, \u001b[39m'\u001b[39;49m\u001b[39mmax\u001b[39;49m\u001b[39m'\u001b[39;49m, range_f, \u001b[39m'\u001b[39;49m\u001b[39mmode\u001b[39;49m\u001b[39m'\u001b[39;49m])\n",
      "File \u001b[0;32m/opt/anaconda3/envs/dev/lib/python3.10/site-packages/pandas/core/frame.py:9342\u001b[0m, in \u001b[0;36mDataFrame.aggregate\u001b[0;34m(self, func, axis, *args, **kwargs)\u001b[0m\n\u001b[1;32m   9339\u001b[0m relabeling, func, columns, order \u001b[39m=\u001b[39m reconstruct_func(func, \u001b[39m*\u001b[39m\u001b[39m*\u001b[39mkwargs)\n\u001b[1;32m   9341\u001b[0m op \u001b[39m=\u001b[39m frame_apply(\u001b[39mself\u001b[39m, func\u001b[39m=\u001b[39mfunc, axis\u001b[39m=\u001b[39maxis, args\u001b[39m=\u001b[39margs, kwargs\u001b[39m=\u001b[39mkwargs)\n\u001b[0;32m-> 9342\u001b[0m result \u001b[39m=\u001b[39m op\u001b[39m.\u001b[39;49magg()\n\u001b[1;32m   9344\u001b[0m \u001b[39mif\u001b[39;00m relabeling:\n\u001b[1;32m   9345\u001b[0m     \u001b[39m# This is to keep the order to columns occurrence unchanged, and also\u001b[39;00m\n\u001b[1;32m   9346\u001b[0m     \u001b[39m# keep the order of new columns occurrence unchanged\u001b[39;00m\n\u001b[1;32m   9347\u001b[0m \n\u001b[1;32m   9348\u001b[0m     \u001b[39m# For the return values of reconstruct_func, if relabeling is\u001b[39;00m\n\u001b[1;32m   9349\u001b[0m     \u001b[39m# False, columns and order will be None.\u001b[39;00m\n\u001b[1;32m   9350\u001b[0m     \u001b[39massert\u001b[39;00m columns \u001b[39mis\u001b[39;00m \u001b[39mnot\u001b[39;00m \u001b[39mNone\u001b[39;00m\n",
      "File \u001b[0;32m/opt/anaconda3/envs/dev/lib/python3.10/site-packages/pandas/core/apply.py:776\u001b[0m, in \u001b[0;36mFrameApply.agg\u001b[0;34m(self)\u001b[0m\n\u001b[1;32m    774\u001b[0m result \u001b[39m=\u001b[39m \u001b[39mNone\u001b[39;00m\n\u001b[1;32m    775\u001b[0m \u001b[39mtry\u001b[39;00m:\n\u001b[0;32m--> 776\u001b[0m     result \u001b[39m=\u001b[39m \u001b[39msuper\u001b[39;49m()\u001b[39m.\u001b[39;49magg()\n\u001b[1;32m    777\u001b[0m \u001b[39mexcept\u001b[39;00m \u001b[39mTypeError\u001b[39;00m \u001b[39mas\u001b[39;00m err:\n\u001b[1;32m    778\u001b[0m     exc \u001b[39m=\u001b[39m \u001b[39mTypeError\u001b[39;00m(\n\u001b[1;32m    779\u001b[0m         \u001b[39m\"\u001b[39m\u001b[39mDataFrame constructor called with \u001b[39m\u001b[39m\"\u001b[39m\n\u001b[1;32m    780\u001b[0m         \u001b[39mf\u001b[39m\u001b[39m\"\u001b[39m\u001b[39mincompatible data and dtype: \u001b[39m\u001b[39m{\u001b[39;00merr\u001b[39m}\u001b[39;00m\u001b[39m\"\u001b[39m\n\u001b[1;32m    781\u001b[0m     )\n",
      "File \u001b[0;32m/opt/anaconda3/envs/dev/lib/python3.10/site-packages/pandas/core/apply.py:175\u001b[0m, in \u001b[0;36mApply.agg\u001b[0;34m(self)\u001b[0m\n\u001b[1;32m    172\u001b[0m     \u001b[39mreturn\u001b[39;00m \u001b[39mself\u001b[39m\u001b[39m.\u001b[39magg_dict_like()\n\u001b[1;32m    173\u001b[0m \u001b[39melif\u001b[39;00m is_list_like(arg):\n\u001b[1;32m    174\u001b[0m     \u001b[39m# we require a list, but not a 'str'\u001b[39;00m\n\u001b[0;32m--> 175\u001b[0m     \u001b[39mreturn\u001b[39;00m \u001b[39mself\u001b[39;49m\u001b[39m.\u001b[39;49magg_list_like()\n\u001b[1;32m    177\u001b[0m \u001b[39mif\u001b[39;00m \u001b[39mcallable\u001b[39m(arg):\n\u001b[1;32m    178\u001b[0m     f \u001b[39m=\u001b[39m com\u001b[39m.\u001b[39mget_cython_func(arg)\n",
      "File \u001b[0;32m/opt/anaconda3/envs/dev/lib/python3.10/site-packages/pandas/core/apply.py:401\u001b[0m, in \u001b[0;36mApply.agg_list_like\u001b[0;34m(self)\u001b[0m\n\u001b[1;32m    394\u001b[0m \u001b[39mtry\u001b[39;00m:\n\u001b[1;32m    395\u001b[0m     \u001b[39m# Capture and suppress any warnings emitted by us in the call\u001b[39;00m\n\u001b[1;32m    396\u001b[0m     \u001b[39m# to agg below, but pass through any warnings that were\u001b[39;00m\n\u001b[1;32m    397\u001b[0m     \u001b[39m# generated otherwise.\u001b[39;00m\n\u001b[1;32m    398\u001b[0m     \u001b[39m# This is necessary because of https://bugs.python.org/issue29672\u001b[39;00m\n\u001b[1;32m    399\u001b[0m     \u001b[39m# See GH #43741 for more details\u001b[39;00m\n\u001b[1;32m    400\u001b[0m     \u001b[39mwith\u001b[39;00m warnings\u001b[39m.\u001b[39mcatch_warnings(record\u001b[39m=\u001b[39m\u001b[39mTrue\u001b[39;00m) \u001b[39mas\u001b[39;00m record:\n\u001b[0;32m--> 401\u001b[0m         new_res \u001b[39m=\u001b[39m colg\u001b[39m.\u001b[39;49maggregate(arg)\n\u001b[1;32m    402\u001b[0m     \u001b[39mif\u001b[39;00m \u001b[39mlen\u001b[39m(record) \u001b[39m>\u001b[39m \u001b[39m0\u001b[39m:\n\u001b[1;32m    403\u001b[0m         match \u001b[39m=\u001b[39m re\u001b[39m.\u001b[39mcompile(depr_nuisance_columns_msg\u001b[39m.\u001b[39mformat(\u001b[39m\"\u001b[39m\u001b[39m.*\u001b[39m\u001b[39m\"\u001b[39m))\n",
      "File \u001b[0;32m/opt/anaconda3/envs/dev/lib/python3.10/site-packages/pandas/core/series.py:4605\u001b[0m, in \u001b[0;36mSeries.aggregate\u001b[0;34m(self, func, axis, *args, **kwargs)\u001b[0m\n\u001b[1;32m   4602\u001b[0m     func \u001b[39m=\u001b[39m \u001b[39mdict\u001b[39m(kwargs\u001b[39m.\u001b[39mitems())\n\u001b[1;32m   4604\u001b[0m op \u001b[39m=\u001b[39m SeriesApply(\u001b[39mself\u001b[39m, func, convert_dtype\u001b[39m=\u001b[39m\u001b[39mFalse\u001b[39;00m, args\u001b[39m=\u001b[39margs, kwargs\u001b[39m=\u001b[39mkwargs)\n\u001b[0;32m-> 4605\u001b[0m result \u001b[39m=\u001b[39m op\u001b[39m.\u001b[39;49magg()\n\u001b[1;32m   4606\u001b[0m \u001b[39mreturn\u001b[39;00m result\n",
      "File \u001b[0;32m/opt/anaconda3/envs/dev/lib/python3.10/site-packages/pandas/core/apply.py:1126\u001b[0m, in \u001b[0;36mSeriesApply.agg\u001b[0;34m(self)\u001b[0m\n\u001b[1;32m   1125\u001b[0m \u001b[39mdef\u001b[39;00m \u001b[39magg\u001b[39m(\u001b[39mself\u001b[39m):\n\u001b[0;32m-> 1126\u001b[0m     result \u001b[39m=\u001b[39m \u001b[39msuper\u001b[39;49m()\u001b[39m.\u001b[39;49magg()\n\u001b[1;32m   1127\u001b[0m     \u001b[39mif\u001b[39;00m result \u001b[39mis\u001b[39;00m \u001b[39mNone\u001b[39;00m:\n\u001b[1;32m   1128\u001b[0m         f \u001b[39m=\u001b[39m \u001b[39mself\u001b[39m\u001b[39m.\u001b[39mf\n",
      "File \u001b[0;32m/opt/anaconda3/envs/dev/lib/python3.10/site-packages/pandas/core/apply.py:175\u001b[0m, in \u001b[0;36mApply.agg\u001b[0;34m(self)\u001b[0m\n\u001b[1;32m    172\u001b[0m     \u001b[39mreturn\u001b[39;00m \u001b[39mself\u001b[39m\u001b[39m.\u001b[39magg_dict_like()\n\u001b[1;32m    173\u001b[0m \u001b[39melif\u001b[39;00m is_list_like(arg):\n\u001b[1;32m    174\u001b[0m     \u001b[39m# we require a list, but not a 'str'\u001b[39;00m\n\u001b[0;32m--> 175\u001b[0m     \u001b[39mreturn\u001b[39;00m \u001b[39mself\u001b[39;49m\u001b[39m.\u001b[39;49magg_list_like()\n\u001b[1;32m    177\u001b[0m \u001b[39mif\u001b[39;00m \u001b[39mcallable\u001b[39m(arg):\n\u001b[1;32m    178\u001b[0m     f \u001b[39m=\u001b[39m com\u001b[39m.\u001b[39mget_cython_func(arg)\n",
      "File \u001b[0;32m/opt/anaconda3/envs/dev/lib/python3.10/site-packages/pandas/core/apply.py:456\u001b[0m, in \u001b[0;36mApply.agg_list_like\u001b[0;34m(self)\u001b[0m\n\u001b[1;32m    454\u001b[0m     result \u001b[39m=\u001b[39m Series(results, index\u001b[39m=\u001b[39mkeys, name\u001b[39m=\u001b[39mobj\u001b[39m.\u001b[39mname)\n\u001b[1;32m    455\u001b[0m     \u001b[39mif\u001b[39;00m is_nested_object(result):\n\u001b[0;32m--> 456\u001b[0m         \u001b[39mraise\u001b[39;00m \u001b[39mValueError\u001b[39;00m(\n\u001b[1;32m    457\u001b[0m             \u001b[39m\"\u001b[39m\u001b[39mcannot combine transform and aggregation operations\u001b[39m\u001b[39m\"\u001b[39m\n\u001b[1;32m    458\u001b[0m         ) \u001b[39mfrom\u001b[39;00m \u001b[39merr\u001b[39;00m\n\u001b[1;32m    459\u001b[0m     \u001b[39mreturn\u001b[39;00m result\n\u001b[1;32m    460\u001b[0m \u001b[39melse\u001b[39;00m:\n\u001b[1;32m    461\u001b[0m     \u001b[39m# Concat uses the first index to determine the final indexing order.\u001b[39;00m\n\u001b[1;32m    462\u001b[0m     \u001b[39m# The union of a shorter first index with the other indices causes\u001b[39;00m\n\u001b[1;32m    463\u001b[0m     \u001b[39m# the index sorting to be different from the order of the aggregating\u001b[39;00m\n\u001b[1;32m    464\u001b[0m     \u001b[39m# functions. Reindex if this is the case.\u001b[39;00m\n",
      "\u001b[0;31mValueError\u001b[0m: cannot combine transform and aggregation operations"
     ]
    }
   ],
   "source": [
    "# Use the agg() method with mode and see what happens!!!  Explain! \n",
    "\n",
    "height_weight_clean_df.agg(['count','mean','median','min', 'max', range_f, 'mode'])"
   ]
  },
  {
   "cell_type": "code",
   "execution_count": null,
   "metadata": {},
   "outputs": [],
   "source": [
    "## Pratical Question:  Is it better to know a companies Median or Mean when estimating your salary at the position? "
   ]
  }
 ],
 "metadata": {
  "kernelspec": {
   "display_name": "Python [conda env:dev]",
   "language": "python",
   "name": "conda-env-dev-py"
  },
  "language_info": {
   "codemirror_mode": {
    "name": "ipython",
    "version": 3
   },
   "file_extension": ".py",
   "mimetype": "text/x-python",
   "name": "python",
   "nbconvert_exporter": "python",
   "pygments_lexer": "ipython3",
   "version": "3.10.12"
  }
 },
 "nbformat": 4,
 "nbformat_minor": 2
}
